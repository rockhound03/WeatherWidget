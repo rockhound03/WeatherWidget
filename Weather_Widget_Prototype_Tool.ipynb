{
 "cells": [
  {
   "cell_type": "code",
   "execution_count": 1,
   "metadata": {},
   "outputs": [],
   "source": [
    "import matplotlib.pyplot as plt\n",
    "import pandas as pd\n",
    "import numpy as np\n",
    "import requests\n",
    "import time\n",
    "from datetime import datetime\n",
    "import matplotlib\n",
    "\n",
    "# Import API key\n",
    "from api_keys import api_key\n",
    "single_city_url = \"http://api.openweathermap.org/data/2.5/weather?\""
   ]
  },
  {
   "cell_type": "code",
   "execution_count": 2,
   "metadata": {},
   "outputs": [],
   "source": [
    "city_name = \"portland\"\n",
    "city_id = \"5746545\"\n",
    "city_units = \"metric\""
   ]
  },
  {
   "cell_type": "code",
   "execution_count": 3,
   "metadata": {},
   "outputs": [],
   "source": [
    "query_string = single_city_url + \"appid=\" + api_key + \"&q=\" + city_name"
   ]
  },
  {
   "cell_type": "markdown",
   "metadata": {},
   "source": [
    "request = requests.get(query_string).json()"
   ]
  },
  {
   "cell_type": "markdown",
   "metadata": {},
   "source": [
    "request"
   ]
  },
  {
   "cell_type": "code",
   "execution_count": 4,
   "metadata": {},
   "outputs": [],
   "source": [
    "query_string2 = single_city_url + \"appid=\" + api_key + \"&id=\" + city_id + \"&units=\" + city_units"
   ]
  },
  {
   "cell_type": "code",
   "execution_count": 5,
   "metadata": {},
   "outputs": [],
   "source": [
    "request2 = requests.get(query_string2).json()"
   ]
  },
  {
   "cell_type": "code",
   "execution_count": 6,
   "metadata": {},
   "outputs": [
    {
     "data": {
      "text/plain": [
       "{'coord': {'lon': -122.68, 'lat': 45.52},\n",
       " 'weather': [{'id': 803,\n",
       "   'main': 'Clouds',\n",
       "   'description': 'broken clouds',\n",
       "   'icon': '04d'}],\n",
       " 'base': 'stations',\n",
       " 'main': {'temp': 19.01,\n",
       "  'feels_like': 14.46,\n",
       "  'temp_min': 17.22,\n",
       "  'temp_max': 20.56,\n",
       "  'pressure': 1017,\n",
       "  'humidity': 32},\n",
       " 'visibility': 16093,\n",
       " 'wind': {'speed': 4.1, 'deg': 190},\n",
       " 'clouds': {'all': 75},\n",
       " 'dt': 1587940191,\n",
       " 'sys': {'type': 1,\n",
       "  'id': 5321,\n",
       "  'country': 'US',\n",
       "  'sunrise': 1587906323,\n",
       "  'sunset': 1587957068},\n",
       " 'timezone': -25200,\n",
       " 'id': 5746545,\n",
       " 'name': 'Portland',\n",
       " 'cod': 200}"
      ]
     },
     "execution_count": 6,
     "metadata": {},
     "output_type": "execute_result"
    }
   ],
   "source": [
    "request2"
   ]
  },
  {
   "cell_type": "code",
   "execution_count": 7,
   "metadata": {},
   "outputs": [],
   "source": [
    "city_path = \"city_list.csv\"\n",
    "cities_df = pd.read_csv(city_path)\n",
    "city_data_dict = []\n",
    "city_data_dict.append({'city_id': city_id, 'date' : request2['dt'], 'lon' : request2['coord']['lon'], \n",
    "                       'lat':request2['coord']['lat'], 'main_temp' : request2['main']['temp'],\n",
    "                       'main_pressure' : request2['main']['pressure'], 'humidity' : request2['main']['humidity'],\n",
    "                      'wind_speed' : request2['wind']['speed'], 'wind_deg' : request2['wind']['deg'],\n",
    "                      'clouds' : request2['clouds']['all']})"
   ]
  },
  {
   "cell_type": "code",
   "execution_count": 8,
   "metadata": {},
   "outputs": [
    {
     "data": {
      "text/plain": [
       "[{'city_id': '5746545',\n",
       "  'date': 1587940191,\n",
       "  'lon': -122.68,\n",
       "  'lat': 45.52,\n",
       "  'main_temp': 19.01,\n",
       "  'main_pressure': 1017,\n",
       "  'humidity': 32,\n",
       "  'wind_speed': 4.1,\n",
       "  'wind_deg': 190,\n",
       "  'clouds': 75}]"
      ]
     },
     "execution_count": 8,
     "metadata": {},
     "output_type": "execute_result"
    }
   ],
   "source": [
    "city_data_dict"
   ]
  },
  {
   "cell_type": "code",
   "execution_count": 9,
   "metadata": {},
   "outputs": [
    {
     "data": {
      "text/plain": [
       "[{'city_id': 5757506, 'city_name': 'tualatin'},\n",
       " {'city_id': 5756758, 'city_name': 'tigard'},\n",
       " {'city_id': 5713376, 'city_name': 'beaverton'},\n",
       " {'city_id': 5761287, 'city_name': 'wilsonville'},\n",
       " {'city_id': 5713587, 'city_name': 'bend'},\n",
       " {'city_id': 5729080, 'city_name': 'grants pass'},\n",
       " {'city_id': 5808079, 'city_name': 'redmond'},\n",
       " {'city_id': 5394136, 'city_name': 'seaside'},\n",
       " {'city_id': 5711847, 'city_name': 'astoria'},\n",
       " {'city_id': 5814616, 'city_name': 'vancouver'},\n",
       " {'city_id': 5746545, 'city_name': 'portland'}]"
      ]
     },
     "execution_count": 9,
     "metadata": {},
     "output_type": "execute_result"
    }
   ],
   "source": [
    "city_master = []\n",
    "for i,row in cities_df.iterrows():\n",
    "    city_master.append({\"city_id\" : row['city_id'],\"city_name\" : row['city_name']})\n",
    "    #print(row['city_id']\n",
    "    \n",
    "city_master\n",
    "\n"
   ]
  },
  {
   "cell_type": "code",
   "execution_count": null,
   "metadata": {},
   "outputs": [],
   "source": []
  }
 ],
 "metadata": {
  "kernelspec": {
   "display_name": "Python 3",
   "language": "python",
   "name": "python3"
  },
  "language_info": {
   "codemirror_mode": {
    "name": "ipython",
    "version": 3
   },
   "file_extension": ".py",
   "mimetype": "text/x-python",
   "name": "python",
   "nbconvert_exporter": "python",
   "pygments_lexer": "ipython3",
   "version": "3.7.6"
  }
 },
 "nbformat": 4,
 "nbformat_minor": 4
}
