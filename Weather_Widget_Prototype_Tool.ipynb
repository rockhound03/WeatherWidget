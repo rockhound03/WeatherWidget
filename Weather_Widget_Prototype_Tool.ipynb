{
 "cells": [
  {
   "cell_type": "code",
   "execution_count": 2,
   "metadata": {},
   "outputs": [],
   "source": [
    "import matplotlib.pyplot as plt\n",
    "import pandas as pd\n",
    "import numpy as np\n",
    "import requests\n",
    "import time\n",
    "from datetime import datetime\n",
    "import matplotlib\n",
    "import networkx as nx\n",
    "\n",
    "# Import API key\n",
    "from api_keys import api_key\n",
    "single_city_url = \"http://api.openweathermap.org/data/2.5/weather?\""
   ]
  },
  {
   "cell_type": "code",
   "execution_count": 3,
   "metadata": {},
   "outputs": [],
   "source": [
    "city_name = \"portland\"\n",
    "city_id = \"5746545\"\n",
    "city_units = \"metric\""
   ]
  },
  {
   "cell_type": "markdown",
   "metadata": {},
   "source": [
    "query_string = single_city_url + \"appid=\" + api_key + \"&q=\" + city_name"
   ]
  },
  {
   "cell_type": "markdown",
   "metadata": {},
   "source": [
    "request = requests.get(query_string).json()"
   ]
  },
  {
   "cell_type": "markdown",
   "metadata": {},
   "source": [
    "request"
   ]
  },
  {
   "cell_type": "code",
   "execution_count": 22,
   "metadata": {},
   "outputs": [],
   "source": [
    "query_string2 = single_city_url + \"appid=\" + api_key + \"&id=\" + city_id + \"&units=\" + city_units"
   ]
  },
  {
   "cell_type": "code",
   "execution_count": 23,
   "metadata": {},
   "outputs": [],
   "source": [
    "request2 = requests.get(query_string2).json()"
   ]
  },
  {
   "cell_type": "code",
   "execution_count": 24,
   "metadata": {},
   "outputs": [
    {
     "data": {
      "text/plain": [
       "{'coord': {'lon': -122.68, 'lat': 45.52},\n",
       " 'weather': [{'id': 803,\n",
       "   'main': 'Clouds',\n",
       "   'description': 'broken clouds',\n",
       "   'icon': '04d'}],\n",
       " 'base': 'stations',\n",
       " 'main': {'temp': 19.18,\n",
       "  'feels_like': 14.65,\n",
       "  'temp_min': 17.22,\n",
       "  'temp_max': 20.56,\n",
       "  'pressure': 1017,\n",
       "  'humidity': 32},\n",
       " 'visibility': 16093,\n",
       " 'wind': {'speed': 4.1, 'deg': 190},\n",
       " 'clouds': {'all': 75},\n",
       " 'dt': 1587942301,\n",
       " 'sys': {'type': 1,\n",
       "  'id': 5321,\n",
       "  'country': 'US',\n",
       "  'sunrise': 1587906323,\n",
       "  'sunset': 1587957068},\n",
       " 'timezone': -25200,\n",
       " 'id': 5746545,\n",
       " 'name': 'Portland',\n",
       " 'cod': 200}"
      ]
     },
     "execution_count": 24,
     "metadata": {},
     "output_type": "execute_result"
    }
   ],
   "source": [
    "request2"
   ]
  },
  {
   "cell_type": "code",
   "execution_count": 25,
   "metadata": {},
   "outputs": [],
   "source": [
    "city_path = \"city_list.csv\"\n",
    "cities_df = pd.read_csv(city_path)\n",
    "city_data_dict = []\n",
    "city_data_dict.append({'city_id': city_id, 'city_name' : city_name, 'country' : request2['sys']['country'], \n",
    "                       'date' : request2['dt'], 'lon' : request2['coord']['lon'], 'lat':request2['coord']['lat'], \n",
    "                       'main_temp' : request2['main']['temp'], 'min_temp' : request2['main']['temp_min'],\n",
    "                       'max_temp' : request2['main']['temp_max'], 'main_pressure' : request2['main']['pressure'], \n",
    "                       'humidity' : request2['main']['humidity'], 'wind_speed' : request2['wind']['speed'], \n",
    "                       'wind_deg' : request2['wind']['deg'], 'clouds' : request2['clouds']['all'],\n",
    "                      'visibility' : request2['visibility']})"
   ]
  },
  {
   "cell_type": "code",
   "execution_count": 26,
   "metadata": {},
   "outputs": [
    {
     "data": {
      "text/plain": [
       "[{'city_id': '5746545',\n",
       "  'city_name': 'portland',\n",
       "  'country': 'US',\n",
       "  'date': 1587942301,\n",
       "  'lon': -122.68,\n",
       "  'lat': 45.52,\n",
       "  'main_temp': 19.18,\n",
       "  'main_pressure': 1017,\n",
       "  'humidity': 32,\n",
       "  'wind_speed': 4.1,\n",
       "  'wind_deg': 190,\n",
       "  'clouds': 75,\n",
       "  'visibility': 16093}]"
      ]
     },
     "execution_count": 26,
     "metadata": {},
     "output_type": "execute_result"
    }
   ],
   "source": [
    "city_data_dict"
   ]
  },
  {
   "cell_type": "code",
   "execution_count": 5,
   "metadata": {},
   "outputs": [],
   "source": [
    "city_path = \"city_list.csv\"\n",
    "cities_df = pd.read_csv(city_path)"
   ]
  },
  {
   "cell_type": "code",
   "execution_count": 11,
   "metadata": {},
   "outputs": [],
   "source": [
    "city_master = []\n",
    "for i,row in cities_df.iterrows():\n",
    "    city_master.append({\"city_id\" : row['city_id'],\"city_name\" : row['city_name']})\n",
    "    #print(row['city_id']\n",
    "    \n",
    "for cityinfo in city_master:\n",
    "    query_string = single_city_url + \"appid=\" + api_key + \"&id=\" + str(cityinfo[\"city_id\"]) + \"&units=\" + city_units\n",
    "    request2 = requests.get(query_string).json()\n",
    "    city_data_dict = []\n",
    "    city_data_dict.append({'city_id': cityinfo[\"city_id\"], 'city_name' : cityinfo[\"city_name\"], 'country' : request2['sys']['country'], \n",
    "                       'date' : request2['dt'], 'lon' : request2['coord']['lon'], 'lat':request2['coord']['lat'], \n",
    "                       'main_temp' : request2['main']['temp'], 'min_temp' : request2['main']['temp_min'],\n",
    "                       'max_temp' : request2['main']['temp_max'], 'main_pressure' : request2['main']['pressure'], \n",
    "                       'humidity' : request2['main']['humidity'], 'wind_speed' : request2['wind']['speed'], \n",
    "                       'clouds' : request2['clouds']['all'], 'visibility' : request2['visibility']})\n",
    "\n"
   ]
  },
  {
   "cell_type": "code",
   "execution_count": 10,
   "metadata": {},
   "outputs": [
    {
     "data": {
      "text/plain": [
       "{'coord': {'lon': -122.76, 'lat': 45.38},\n",
       " 'weather': [{'id': 500,\n",
       "   'main': 'Rain',\n",
       "   'description': 'light rain',\n",
       "   'icon': '10d'}],\n",
       " 'base': 'stations',\n",
       " 'main': {'temp': 18.38,\n",
       "  'feels_like': 17.22,\n",
       "  'temp_min': 16.67,\n",
       "  'temp_max': 20,\n",
       "  'pressure': 1016,\n",
       "  'humidity': 72},\n",
       " 'visibility': 16093,\n",
       " 'wind': {'speed': 3.1},\n",
       " 'rain': {'1h': 0.51},\n",
       " 'clouds': {'all': 75},\n",
       " 'dt': 1588207447,\n",
       " 'sys': {'type': 1,\n",
       "  'id': 6111,\n",
       "  'country': 'US',\n",
       "  'sunrise': 1588165282,\n",
       "  'sunset': 1588216500},\n",
       " 'timezone': -25200,\n",
       " 'id': 5757506,\n",
       " 'name': 'Tualatin',\n",
       " 'cod': 200}"
      ]
     },
     "execution_count": 10,
     "metadata": {},
     "output_type": "execute_result"
    }
   ],
   "source": [
    "request2"
   ]
  },
  {
   "cell_type": "code",
   "execution_count": null,
   "metadata": {},
   "outputs": [],
   "source": []
  }
 ],
 "metadata": {
  "kernelspec": {
   "display_name": "Python 3",
   "language": "python",
   "name": "python3"
  },
  "language_info": {
   "codemirror_mode": {
    "name": "ipython",
    "version": 3
   },
   "file_extension": ".py",
   "mimetype": "text/x-python",
   "name": "python",
   "nbconvert_exporter": "python",
   "pygments_lexer": "ipython3",
   "version": "3.7.6"
  }
 },
 "nbformat": 4,
 "nbformat_minor": 4
}
